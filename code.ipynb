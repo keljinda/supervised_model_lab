{
 "cells": [
  {
   "cell_type": "markdown",
   "metadata": {},
   "source": [
    "<img src=\"http://imgur.com/1ZcRyrc.png\" style=\"float: left; margin: 20px; height: 55px\">\n",
    "\n",
    "# Supervised Learning Model Comparison\n",
    "\n",
    "---\n",
    "\n",
    "### Let us begin...\n",
    "\n",
    "Recall the `data science process`.\n",
    "   1. Define the problem.\n",
    "   2. Gather the data.\n",
    "   3. Explore the data.\n",
    "   4. Model the data.\n",
    "   5. Evaluate the model.\n",
    "   6. Answer the problem.\n",
    "\n",
    "In this lab, we're going to focus mostly on creating (and then comparing) many regression and classification models. Thus, we'll define the problem and gather the data for you.\n",
    "Most of the questions requiring a written response can be written in 2-3 sentences."
   ]
  },
  {
   "cell_type": "markdown",
   "metadata": {},
   "source": [
    "### Step 1: Define the problem.\n",
    "\n",
    "You are a data scientist with a financial services company. Specifically, you want to leverage data in order to identify potential customers.\n",
    "\n",
    "If you are unfamiliar with \"401(k)s\" or \"IRAs,\" these are two types of retirement accounts. Very broadly speaking:\n",
    "- You can put money for retirement into both of these accounts.\n",
    "- The money in these accounts gets invested and hopefully has a lot more money in it when you retire.\n",
    "- These are a little different from regular bank accounts in that there are certain tax benefits to these accounts. Also, employers frequently match money that you put into a 401k.\n",
    "- If you want to learn more about them, check out [this site](https://www.nerdwallet.com/article/ira-vs-401k-retirement-accounts).\n",
    "\n",
    "We will tackle one regression problem and one classification problem today.\n",
    "- Regression: What features best predict one's income?\n",
    "- Classification: Predict whether or not one is eligible for a 401k.\n",
    "\n",
    "Check out the data dictionary [here](http://fmwww.bc.edu/ec-p/data/wooldridge2k/401KSUBS.DES).\n",
    "\n",
    "#### NOTE: When predicting `inc`, you should pretend as though you do not have access to the `e401k`, the `p401k` variable, and the `pira` variable. \n",
    "\n",
    "#### When predicting `e401k`, you may use the entire dataframe if you wish."
   ]
  },
  {
   "cell_type": "markdown",
   "metadata": {},
   "source": [
    "### Step 2: Gather the data.\n",
    "\n",
    "##### 1. Read in the data."
   ]
  },
  {
   "cell_type": "code",
   "execution_count": 172,
   "metadata": {},
   "outputs": [],
   "source": [
    "import pandas as pd\n",
    "import numpy as np\n",
    "\n",
    "import seaborn as sns\n",
    "import matplotlib.pyplot as plt\n",
    "\n",
    "from sklearn.linear_model import LinearRegression, LogisticRegression\n",
    "from sklearn.neighbors import KNeighborsRegressor, KNeighborsClassifier\n",
    "from sklearn.tree import DecisionTreeRegressor, DecisionTreeClassifier\n",
    "from sklearn.ensemble import BaggingRegressor, RandomForestRegressor, AdaBoostRegressor, \\\n",
    "BaggingClassifier, RandomForestClassifier, ExtraTreesClassifier, AdaBoostClassifier\n",
    "from sklearn.metrics import mean_squared_error ,root_mean_squared_error,accuracy_score , \\\n",
    "precision_score, recall_score,  f1_score\n",
    "from sklearn.model_selection import train_test_split, cross_val_score \\\n",
    ",GridSearchCV  #\n",
    "from sklearn.preprocessing import StandardScaler\n",
    "\n",
    "data = pd.read_csv('401ksubs.csv')"
   ]
  },
  {
   "cell_type": "code",
   "execution_count": 5,
   "metadata": {},
   "outputs": [
    {
     "data": {
      "text/html": [
       "<div>\n",
       "<style scoped>\n",
       "    .dataframe tbody tr th:only-of-type {\n",
       "        vertical-align: middle;\n",
       "    }\n",
       "\n",
       "    .dataframe tbody tr th {\n",
       "        vertical-align: top;\n",
       "    }\n",
       "\n",
       "    .dataframe thead th {\n",
       "        text-align: right;\n",
       "    }\n",
       "</style>\n",
       "<table border=\"1\" class=\"dataframe\">\n",
       "  <thead>\n",
       "    <tr style=\"text-align: right;\">\n",
       "      <th></th>\n",
       "      <th>e401k</th>\n",
       "      <th>inc</th>\n",
       "      <th>marr</th>\n",
       "      <th>male</th>\n",
       "      <th>age</th>\n",
       "      <th>fsize</th>\n",
       "      <th>nettfa</th>\n",
       "      <th>p401k</th>\n",
       "      <th>pira</th>\n",
       "      <th>incsq</th>\n",
       "      <th>agesq</th>\n",
       "    </tr>\n",
       "  </thead>\n",
       "  <tbody>\n",
       "    <tr>\n",
       "      <th>0</th>\n",
       "      <td>0</td>\n",
       "      <td>13.170</td>\n",
       "      <td>0</td>\n",
       "      <td>0</td>\n",
       "      <td>40</td>\n",
       "      <td>1</td>\n",
       "      <td>4.575</td>\n",
       "      <td>0</td>\n",
       "      <td>1</td>\n",
       "      <td>173.4489</td>\n",
       "      <td>1600</td>\n",
       "    </tr>\n",
       "    <tr>\n",
       "      <th>1</th>\n",
       "      <td>1</td>\n",
       "      <td>61.230</td>\n",
       "      <td>0</td>\n",
       "      <td>1</td>\n",
       "      <td>35</td>\n",
       "      <td>1</td>\n",
       "      <td>154.000</td>\n",
       "      <td>1</td>\n",
       "      <td>0</td>\n",
       "      <td>3749.1130</td>\n",
       "      <td>1225</td>\n",
       "    </tr>\n",
       "    <tr>\n",
       "      <th>2</th>\n",
       "      <td>0</td>\n",
       "      <td>12.858</td>\n",
       "      <td>1</td>\n",
       "      <td>0</td>\n",
       "      <td>44</td>\n",
       "      <td>2</td>\n",
       "      <td>0.000</td>\n",
       "      <td>0</td>\n",
       "      <td>0</td>\n",
       "      <td>165.3282</td>\n",
       "      <td>1936</td>\n",
       "    </tr>\n",
       "    <tr>\n",
       "      <th>3</th>\n",
       "      <td>0</td>\n",
       "      <td>98.880</td>\n",
       "      <td>1</td>\n",
       "      <td>1</td>\n",
       "      <td>44</td>\n",
       "      <td>2</td>\n",
       "      <td>21.800</td>\n",
       "      <td>0</td>\n",
       "      <td>0</td>\n",
       "      <td>9777.2540</td>\n",
       "      <td>1936</td>\n",
       "    </tr>\n",
       "    <tr>\n",
       "      <th>4</th>\n",
       "      <td>0</td>\n",
       "      <td>22.614</td>\n",
       "      <td>0</td>\n",
       "      <td>0</td>\n",
       "      <td>53</td>\n",
       "      <td>1</td>\n",
       "      <td>18.450</td>\n",
       "      <td>0</td>\n",
       "      <td>0</td>\n",
       "      <td>511.3930</td>\n",
       "      <td>2809</td>\n",
       "    </tr>\n",
       "  </tbody>\n",
       "</table>\n",
       "</div>"
      ],
      "text/plain": [
       "   e401k     inc  marr  male  age  fsize   nettfa  p401k  pira      incsq  \\\n",
       "0      0  13.170     0     0   40      1    4.575      0     1   173.4489   \n",
       "1      1  61.230     0     1   35      1  154.000      1     0  3749.1130   \n",
       "2      0  12.858     1     0   44      2    0.000      0     0   165.3282   \n",
       "3      0  98.880     1     1   44      2   21.800      0     0  9777.2540   \n",
       "4      0  22.614     0     0   53      1   18.450      0     0   511.3930   \n",
       "\n",
       "   agesq  \n",
       "0   1600  \n",
       "1   1225  \n",
       "2   1936  \n",
       "3   1936  \n",
       "4   2809  "
      ]
     },
     "execution_count": 5,
     "metadata": {},
     "output_type": "execute_result"
    }
   ],
   "source": [
    "data.head()"
   ]
  },
  {
   "cell_type": "code",
   "execution_count": null,
   "metadata": {},
   "outputs": [],
   "source": []
  },
  {
   "cell_type": "markdown",
   "metadata": {},
   "source": [
    "##### 2. What are 2-3 other variables that, if available, would be helpful to have?"
   ]
  },
  {
   "cell_type": "code",
   "execution_count": 7,
   "metadata": {},
   "outputs": [],
   "source": [
    "# Occupation\n",
    "# Education\n",
    "# Early Retire\n"
   ]
  },
  {
   "cell_type": "markdown",
   "metadata": {},
   "source": [
    "##### 3. Suppose a peer recommended putting `race` into your model in order to better predict who to target when advertising IRAs and 401(k)s. Why would this be an unethical decision?"
   ]
  },
  {
   "cell_type": "code",
   "execution_count": 9,
   "metadata": {},
   "outputs": [],
   "source": [
    "# As “unfair treatment” of human beings based on race, ethnicity, colour, and so on, \n",
    "# it should be evident that racism is primarily a subject of ethics\n",
    "\n",
    "\n",
    "#https://pmc.ncbi.nlm.nih.gov/articles/PMC7778398/"
   ]
  },
  {
   "cell_type": "markdown",
   "metadata": {},
   "source": [
    "## Step 3: Explore the data.\n",
    "\n",
    "##### 4. When attempting to predict income, which feature(s) would we reasonably not use? Why?"
   ]
  },
  {
   "cell_type": "code",
   "execution_count": 11,
   "metadata": {},
   "outputs": [
    {
     "data": {
      "text/plain": [
       "(9275, 11)"
      ]
     },
     "execution_count": 11,
     "metadata": {},
     "output_type": "execute_result"
    }
   ],
   "source": [
    "data.shape"
   ]
  },
  {
   "cell_type": "code",
   "execution_count": 12,
   "metadata": {},
   "outputs": [
    {
     "data": {
      "text/plain": [
       "e401k       int64\n",
       "inc       float64\n",
       "marr        int64\n",
       "male        int64\n",
       "age         int64\n",
       "fsize       int64\n",
       "nettfa    float64\n",
       "p401k       int64\n",
       "pira        int64\n",
       "incsq     float64\n",
       "agesq       int64\n",
       "dtype: object"
      ]
     },
     "execution_count": 12,
     "metadata": {},
     "output_type": "execute_result"
    }
   ],
   "source": [
    "data.dtypes"
   ]
  },
  {
   "cell_type": "code",
   "execution_count": 13,
   "metadata": {},
   "outputs": [
    {
     "data": {
      "text/plain": [
       "e401k     0\n",
       "inc       0\n",
       "marr      0\n",
       "male      0\n",
       "age       0\n",
       "fsize     0\n",
       "nettfa    0\n",
       "p401k     0\n",
       "pira      0\n",
       "incsq     0\n",
       "agesq     0\n",
       "dtype: int64"
      ]
     },
     "execution_count": 13,
     "metadata": {},
     "output_type": "execute_result"
    }
   ],
   "source": [
    "data.isnull().sum()"
   ]
  },
  {
   "cell_type": "code",
   "execution_count": 14,
   "metadata": {},
   "outputs": [
    {
     "data": {
      "text/html": [
       "<div>\n",
       "<style scoped>\n",
       "    .dataframe tbody tr th:only-of-type {\n",
       "        vertical-align: middle;\n",
       "    }\n",
       "\n",
       "    .dataframe tbody tr th {\n",
       "        vertical-align: top;\n",
       "    }\n",
       "\n",
       "    .dataframe thead th {\n",
       "        text-align: right;\n",
       "    }\n",
       "</style>\n",
       "<table border=\"1\" class=\"dataframe\">\n",
       "  <thead>\n",
       "    <tr style=\"text-align: right;\">\n",
       "      <th></th>\n",
       "      <th>e401k</th>\n",
       "      <th>inc</th>\n",
       "      <th>marr</th>\n",
       "      <th>male</th>\n",
       "      <th>age</th>\n",
       "      <th>fsize</th>\n",
       "      <th>nettfa</th>\n",
       "      <th>p401k</th>\n",
       "      <th>pira</th>\n",
       "      <th>incsq</th>\n",
       "      <th>agesq</th>\n",
       "    </tr>\n",
       "  </thead>\n",
       "  <tbody>\n",
       "    <tr>\n",
       "      <th>count</th>\n",
       "      <td>9275.000000</td>\n",
       "      <td>9275.000000</td>\n",
       "      <td>9275.000000</td>\n",
       "      <td>9275.000000</td>\n",
       "      <td>9275.000000</td>\n",
       "      <td>9275.000000</td>\n",
       "      <td>9275.000000</td>\n",
       "      <td>9275.000000</td>\n",
       "      <td>9275.000000</td>\n",
       "      <td>9275.000000</td>\n",
       "      <td>9275.000000</td>\n",
       "    </tr>\n",
       "    <tr>\n",
       "      <th>mean</th>\n",
       "      <td>0.392129</td>\n",
       "      <td>39.254641</td>\n",
       "      <td>0.628571</td>\n",
       "      <td>0.204420</td>\n",
       "      <td>41.080216</td>\n",
       "      <td>2.885067</td>\n",
       "      <td>19.071675</td>\n",
       "      <td>0.276226</td>\n",
       "      <td>0.254340</td>\n",
       "      <td>2121.192483</td>\n",
       "      <td>1793.652722</td>\n",
       "    </tr>\n",
       "    <tr>\n",
       "      <th>std</th>\n",
       "      <td>0.488252</td>\n",
       "      <td>24.090002</td>\n",
       "      <td>0.483213</td>\n",
       "      <td>0.403299</td>\n",
       "      <td>10.299517</td>\n",
       "      <td>1.525835</td>\n",
       "      <td>63.963838</td>\n",
       "      <td>0.447154</td>\n",
       "      <td>0.435513</td>\n",
       "      <td>3001.469424</td>\n",
       "      <td>895.648841</td>\n",
       "    </tr>\n",
       "    <tr>\n",
       "      <th>min</th>\n",
       "      <td>0.000000</td>\n",
       "      <td>10.008000</td>\n",
       "      <td>0.000000</td>\n",
       "      <td>0.000000</td>\n",
       "      <td>25.000000</td>\n",
       "      <td>1.000000</td>\n",
       "      <td>-502.302000</td>\n",
       "      <td>0.000000</td>\n",
       "      <td>0.000000</td>\n",
       "      <td>100.160100</td>\n",
       "      <td>625.000000</td>\n",
       "    </tr>\n",
       "    <tr>\n",
       "      <th>25%</th>\n",
       "      <td>0.000000</td>\n",
       "      <td>21.660000</td>\n",
       "      <td>0.000000</td>\n",
       "      <td>0.000000</td>\n",
       "      <td>33.000000</td>\n",
       "      <td>2.000000</td>\n",
       "      <td>-0.500000</td>\n",
       "      <td>0.000000</td>\n",
       "      <td>0.000000</td>\n",
       "      <td>469.155600</td>\n",
       "      <td>1089.000000</td>\n",
       "    </tr>\n",
       "    <tr>\n",
       "      <th>50%</th>\n",
       "      <td>0.000000</td>\n",
       "      <td>33.288000</td>\n",
       "      <td>1.000000</td>\n",
       "      <td>0.000000</td>\n",
       "      <td>40.000000</td>\n",
       "      <td>3.000000</td>\n",
       "      <td>2.000000</td>\n",
       "      <td>0.000000</td>\n",
       "      <td>0.000000</td>\n",
       "      <td>1108.091000</td>\n",
       "      <td>1600.000000</td>\n",
       "    </tr>\n",
       "    <tr>\n",
       "      <th>75%</th>\n",
       "      <td>1.000000</td>\n",
       "      <td>50.160000</td>\n",
       "      <td>1.000000</td>\n",
       "      <td>0.000000</td>\n",
       "      <td>48.000000</td>\n",
       "      <td>4.000000</td>\n",
       "      <td>18.449500</td>\n",
       "      <td>1.000000</td>\n",
       "      <td>1.000000</td>\n",
       "      <td>2516.025500</td>\n",
       "      <td>2304.000000</td>\n",
       "    </tr>\n",
       "    <tr>\n",
       "      <th>max</th>\n",
       "      <td>1.000000</td>\n",
       "      <td>199.041000</td>\n",
       "      <td>1.000000</td>\n",
       "      <td>1.000000</td>\n",
       "      <td>64.000000</td>\n",
       "      <td>13.000000</td>\n",
       "      <td>1536.798000</td>\n",
       "      <td>1.000000</td>\n",
       "      <td>1.000000</td>\n",
       "      <td>39617.320000</td>\n",
       "      <td>4096.000000</td>\n",
       "    </tr>\n",
       "  </tbody>\n",
       "</table>\n",
       "</div>"
      ],
      "text/plain": [
       "             e401k          inc         marr         male          age  \\\n",
       "count  9275.000000  9275.000000  9275.000000  9275.000000  9275.000000   \n",
       "mean      0.392129    39.254641     0.628571     0.204420    41.080216   \n",
       "std       0.488252    24.090002     0.483213     0.403299    10.299517   \n",
       "min       0.000000    10.008000     0.000000     0.000000    25.000000   \n",
       "25%       0.000000    21.660000     0.000000     0.000000    33.000000   \n",
       "50%       0.000000    33.288000     1.000000     0.000000    40.000000   \n",
       "75%       1.000000    50.160000     1.000000     0.000000    48.000000   \n",
       "max       1.000000   199.041000     1.000000     1.000000    64.000000   \n",
       "\n",
       "             fsize       nettfa        p401k         pira         incsq  \\\n",
       "count  9275.000000  9275.000000  9275.000000  9275.000000   9275.000000   \n",
       "mean      2.885067    19.071675     0.276226     0.254340   2121.192483   \n",
       "std       1.525835    63.963838     0.447154     0.435513   3001.469424   \n",
       "min       1.000000  -502.302000     0.000000     0.000000    100.160100   \n",
       "25%       2.000000    -0.500000     0.000000     0.000000    469.155600   \n",
       "50%       3.000000     2.000000     0.000000     0.000000   1108.091000   \n",
       "75%       4.000000    18.449500     1.000000     1.000000   2516.025500   \n",
       "max      13.000000  1536.798000     1.000000     1.000000  39617.320000   \n",
       "\n",
       "             agesq  \n",
       "count  9275.000000  \n",
       "mean   1793.652722  \n",
       "std     895.648841  \n",
       "min     625.000000  \n",
       "25%    1089.000000  \n",
       "50%    1600.000000  \n",
       "75%    2304.000000  \n",
       "max    4096.000000  "
      ]
     },
     "execution_count": 14,
     "metadata": {},
     "output_type": "execute_result"
    }
   ],
   "source": [
    "data.describe()"
   ]
  },
  {
   "cell_type": "code",
   "execution_count": 15,
   "metadata": {},
   "outputs": [
    {
     "data": {
      "image/png": "[encoded data removed]",
      "text/plain": [
       "<Figure size 640x480 with 12 Axes>"
      ]
     },
     "metadata": {},
     "output_type": "display_data"
    }
   ],
   "source": [
    "data.hist();"
   ]
  },
  {
   "cell_type": "code",
   "execution_count": 16,
   "metadata": {},
   "outputs": [
    {
     "data": {
      "text/html": [
       "<div>\n",
       "<style scoped>\n",
       "    .dataframe tbody tr th:only-of-type {\n",
       "        vertical-align: middle;\n",
       "    }\n",
       "\n",
       "    .dataframe tbody tr th {\n",
       "        vertical-align: top;\n",
       "    }\n",
       "\n",
       "    .dataframe thead th {\n",
       "        text-align: right;\n",
       "    }\n",
       "</style>\n",
       "<table border=\"1\" class=\"dataframe\">\n",
       "  <thead>\n",
       "    <tr style=\"text-align: right;\">\n",
       "      <th></th>\n",
       "      <th>e401k</th>\n",
       "      <th>inc</th>\n",
       "      <th>marr</th>\n",
       "      <th>male</th>\n",
       "      <th>age</th>\n",
       "      <th>fsize</th>\n",
       "      <th>nettfa</th>\n",
       "      <th>p401k</th>\n",
       "      <th>pira</th>\n",
       "      <th>incsq</th>\n",
       "      <th>agesq</th>\n",
       "    </tr>\n",
       "  </thead>\n",
       "  <tbody>\n",
       "    <tr>\n",
       "      <th>e401k</th>\n",
       "      <td>1.000000</td>\n",
       "      <td>0.268178</td>\n",
       "      <td>0.080843</td>\n",
       "      <td>-0.027641</td>\n",
       "      <td>0.031526</td>\n",
       "      <td>0.012015</td>\n",
       "      <td>0.143950</td>\n",
       "      <td>0.769170</td>\n",
       "      <td>0.118643</td>\n",
       "      <td>0.206618</td>\n",
       "      <td>0.017526</td>\n",
       "    </tr>\n",
       "    <tr>\n",
       "      <th>inc</th>\n",
       "      <td>0.268178</td>\n",
       "      <td>1.000000</td>\n",
       "      <td>0.362008</td>\n",
       "      <td>-0.069871</td>\n",
       "      <td>0.105638</td>\n",
       "      <td>0.110170</td>\n",
       "      <td>0.376586</td>\n",
       "      <td>0.270833</td>\n",
       "      <td>0.364354</td>\n",
       "      <td>0.940161</td>\n",
       "      <td>0.087305</td>\n",
       "    </tr>\n",
       "    <tr>\n",
       "      <th>marr</th>\n",
       "      <td>0.080843</td>\n",
       "      <td>0.362008</td>\n",
       "      <td>1.000000</td>\n",
       "      <td>-0.363950</td>\n",
       "      <td>0.059047</td>\n",
       "      <td>0.564814</td>\n",
       "      <td>0.075039</td>\n",
       "      <td>0.085636</td>\n",
       "      <td>0.116925</td>\n",
       "      <td>0.280060</td>\n",
       "      <td>0.054500</td>\n",
       "    </tr>\n",
       "    <tr>\n",
       "      <th>male</th>\n",
       "      <td>-0.027641</td>\n",
       "      <td>-0.069871</td>\n",
       "      <td>-0.363950</td>\n",
       "      <td>1.000000</td>\n",
       "      <td>-0.120297</td>\n",
       "      <td>-0.320678</td>\n",
       "      <td>-0.018132</td>\n",
       "      <td>-0.024949</td>\n",
       "      <td>-0.036361</td>\n",
       "      <td>-0.053715</td>\n",
       "      <td>-0.116235</td>\n",
       "    </tr>\n",
       "    <tr>\n",
       "      <th>age</th>\n",
       "      <td>0.031526</td>\n",
       "      <td>0.105638</td>\n",
       "      <td>0.059047</td>\n",
       "      <td>-0.120297</td>\n",
       "      <td>1.000000</td>\n",
       "      <td>-0.030536</td>\n",
       "      <td>0.203906</td>\n",
       "      <td>0.025977</td>\n",
       "      <td>0.238557</td>\n",
       "      <td>0.097584</td>\n",
       "      <td>0.992619</td>\n",
       "    </tr>\n",
       "    <tr>\n",
       "      <th>fsize</th>\n",
       "      <td>0.012015</td>\n",
       "      <td>0.110170</td>\n",
       "      <td>0.564814</td>\n",
       "      <td>-0.320678</td>\n",
       "      <td>-0.030536</td>\n",
       "      <td>1.000000</td>\n",
       "      <td>-0.031506</td>\n",
       "      <td>0.014296</td>\n",
       "      <td>-0.043629</td>\n",
       "      <td>0.079570</td>\n",
       "      <td>-0.055924</td>\n",
       "    </tr>\n",
       "    <tr>\n",
       "      <th>nettfa</th>\n",
       "      <td>0.143950</td>\n",
       "      <td>0.376586</td>\n",
       "      <td>0.075039</td>\n",
       "      <td>-0.018132</td>\n",
       "      <td>0.203906</td>\n",
       "      <td>-0.031506</td>\n",
       "      <td>1.000000</td>\n",
       "      <td>0.187392</td>\n",
       "      <td>0.345917</td>\n",
       "      <td>0.407568</td>\n",
       "      <td>0.203703</td>\n",
       "    </tr>\n",
       "    <tr>\n",
       "      <th>p401k</th>\n",
       "      <td>0.769170</td>\n",
       "      <td>0.270833</td>\n",
       "      <td>0.085636</td>\n",
       "      <td>-0.024949</td>\n",
       "      <td>0.025977</td>\n",
       "      <td>0.014296</td>\n",
       "      <td>0.187392</td>\n",
       "      <td>1.000000</td>\n",
       "      <td>0.153033</td>\n",
       "      <td>0.222113</td>\n",
       "      <td>0.015740</td>\n",
       "    </tr>\n",
       "    <tr>\n",
       "      <th>pira</th>\n",
       "      <td>0.118643</td>\n",
       "      <td>0.364354</td>\n",
       "      <td>0.116925</td>\n",
       "      <td>-0.036361</td>\n",
       "      <td>0.238557</td>\n",
       "      <td>-0.043629</td>\n",
       "      <td>0.345917</td>\n",
       "      <td>0.153033</td>\n",
       "      <td>1.000000</td>\n",
       "      <td>0.322805</td>\n",
       "      <td>0.233543</td>\n",
       "    </tr>\n",
       "    <tr>\n",
       "      <th>incsq</th>\n",
       "      <td>0.206618</td>\n",
       "      <td>0.940161</td>\n",
       "      <td>0.280060</td>\n",
       "      <td>-0.053715</td>\n",
       "      <td>0.097584</td>\n",
       "      <td>0.079570</td>\n",
       "      <td>0.407568</td>\n",
       "      <td>0.222113</td>\n",
       "      <td>0.322805</td>\n",
       "      <td>1.000000</td>\n",
       "      <td>0.082991</td>\n",
       "    </tr>\n",
       "    <tr>\n",
       "      <th>agesq</th>\n",
       "      <td>0.017526</td>\n",
       "      <td>0.087305</td>\n",
       "      <td>0.054500</td>\n",
       "      <td>-0.116235</td>\n",
       "      <td>0.992619</td>\n",
       "      <td>-0.055924</td>\n",
       "      <td>0.203703</td>\n",
       "      <td>0.015740</td>\n",
       "      <td>0.233543</td>\n",
       "      <td>0.082991</td>\n",
       "      <td>1.000000</td>\n",
       "    </tr>\n",
       "  </tbody>\n",
       "</table>\n",
       "</div>"
      ],
      "text/plain": [
       "           e401k       inc      marr      male       age     fsize    nettfa  \\\n",
       "e401k   1.000000  0.268178  0.080843 -0.027641  0.031526  0.012015  0.143950   \n",
       "inc     0.268178  1.000000  0.362008 -0.069871  0.105638  0.110170  0.376586   \n",
       "marr    0.080843  0.362008  1.000000 -0.363950  0.059047  0.564814  0.075039   \n",
       "male   -0.027641 -0.069871 -0.363950  1.000000 -0.120297 -0.320678 -0.018132   \n",
       "age     0.031526  0.105638  0.059047 -0.120297  1.000000 -0.030536  0.203906   \n",
       "fsize   0.012015  0.110170  0.564814 -0.320678 -0.030536  1.000000 -0.031506   \n",
       "nettfa  0.143950  0.376586  0.075039 -0.018132  0.203906 -0.031506  1.000000   \n",
       "p401k   0.769170  0.270833  0.085636 -0.024949  0.025977  0.014296  0.187392   \n",
       "pira    0.118643  0.364354  0.116925 -0.036361  0.238557 -0.043629  0.345917   \n",
       "incsq   0.206618  0.940161  0.280060 -0.053715  0.097584  0.079570  0.407568   \n",
       "agesq   0.017526  0.087305  0.054500 -0.116235  0.992619 -0.055924  0.203703   \n",
       "\n",
       "           p401k      pira     incsq     agesq  \n",
       "e401k   0.769170  0.118643  0.206618  0.017526  \n",
       "inc     0.270833  0.364354  0.940161  0.087305  \n",
       "marr    0.085636  0.116925  0.280060  0.054500  \n",
       "male   -0.024949 -0.036361 -0.053715 -0.116235  \n",
       "age     0.025977  0.238557  0.097584  0.992619  \n",
       "fsize   0.014296 -0.043629  0.079570 -0.055924  \n",
       "nettfa  0.187392  0.345917  0.407568  0.203703  \n",
       "p401k   1.000000  0.153033  0.222113  0.015740  \n",
       "pira    0.153033  1.000000  0.322805  0.233543  \n",
       "incsq   0.222113  0.322805  1.000000  0.082991  \n",
       "agesq   0.015740  0.233543  0.082991  1.000000  "
      ]
     },
     "execution_count": 16,
     "metadata": {},
     "output_type": "execute_result"
    }
   ],
   "source": [
    "data.corr()"
   ]
  },
  {
   "cell_type": "code",
   "execution_count": 17,
   "metadata": {},
   "outputs": [
    {
     "data": {
      "text/plain": [
       "e401k      0.441960\n",
       "inc        1.603880\n",
       "marr      -0.532267\n",
       "male       1.466124\n",
       "age        0.403794\n",
       "fsize      0.791573\n",
       "nettfa    10.165426\n",
       "p401k      1.001095\n",
       "pira       1.128386\n",
       "incsq      4.019208\n",
       "agesq      0.778686\n",
       "dtype: float64"
      ]
     },
     "execution_count": 17,
     "metadata": {},
     "output_type": "execute_result"
    }
   ],
   "source": [
    "data.skew()"
   ]
  },
  {
   "cell_type": "code",
   "execution_count": 190,
   "metadata": {},
   "outputs": [
    {
     "data": {
      "image/png": "[encoded data removed]",
      "text/plain": [
       "<Figure size 1200x800 with 2 Axes>"
      ]
     },
     "metadata": {},
     "output_type": "display_data"
    }
   ],
   "source": [
    "plt.figure(figsize=(12, 8))\n",
    "sns.heatmap(data.corr(), annot=True, cmap='bone');"
   ]
  },
  {
   "cell_type": "code",
   "execution_count": 19,
   "metadata": {},
   "outputs": [],
   "source": [
    "features = data[['e401k','marr', 'male', 'age', 'fsize', 'nettfa',\t'p401k', 'pira','incsq' ,'agesq']]\n",
    "target = data['inc']"
   ]
  },
  {
   "cell_type": "code",
   "execution_count": 128,
   "metadata": {},
   "outputs": [],
   "source": [
    "X = data[['e401k','marr', 'male', 'age', 'fsize','nettfa', 'pira','agesq']]\n",
    "y = data['inc']"
   ]
  },
  {
   "cell_type": "code",
   "execution_count": 130,
   "metadata": {},
   "outputs": [
    {
     "data": {
      "image/png": "[encoded data removed]",
      "text/plain": [
       "<Figure size 640x480 with 1 Axes>"
      ]
     },
     "metadata": {},
     "output_type": "display_data"
    }
   ],
   "source": [
    "import statsmodels.api as sm\n",
    "X_ols = features[['age']]\n",
    "X_ols = sm.add_constant(X) \n",
    "model = sm.OLS(target, X_ols).fit()\n",
    "predictions = model.predict(X_ols)\n",
    "\n",
    "residuals = target - predictions\n",
    "\n",
    "sns.residplot(x=features['age'], y=residuals, lowess=True, line_kws={'color': 'red'})\n",
    "plt.xlabel('Age')\n",
    "plt.ylabel('Residuals')\n",
    "plt.show()"
   ]
  },
  {
   "cell_type": "code",
   "execution_count": null,
   "metadata": {},
   "outputs": [],
   "source": [
    "# Income(inc, incsq) because the model will predict the income. If we use these two columns it will 100% correct"
   ]
  },
  {
   "cell_type": "markdown",
   "metadata": {},
   "source": [
    "##### 5. What two variables have already been created for us through feature engineering? Come up with a hypothesis as to why subject-matter experts may have done this.\n",
    "> This need not be a \"statistical hypothesis.\" Just brainstorm why SMEs (Subject Matter Experts) might have done this!"
   ]
  },
  {
   "cell_type": "code",
   "execution_count": null,
   "metadata": {},
   "outputs": [],
   "source": [
    "# incsq and agesq this is prepare for \n",
    "# Testing whether or not there is a relationship between two categorical variables\n",
    "# Is there a relationship between incsq and agesq affiliation?"
   ]
  },
  {
   "cell_type": "markdown",
   "metadata": {},
   "source": [
    "##### 6. Looking at the data dictionary, one variable description appears to be an error. What is this error, and what do you think the correct value would be?"
   ]
  },
  {
   "cell_type": "code",
   "execution_count": null,
   "metadata": {},
   "outputs": [],
   "source": [
    "# inc and age are incorrect description both shows inc^2 , age^2. \n",
    "# The information should display as below:\n",
    "# inc description income 1000$\n",
    "# age description ages "
   ]
  },
  {
   "cell_type": "markdown",
   "metadata": {},
   "source": [
    "## Step 4: Model the data. (Part 1: Regression Problem)\n",
    "\n",
    "Recall:\n",
    "- Problem: What features best predict one's income?\n",
    "- When predicting `inc`, you should pretend as though you do not have access to the `e401k`, the `p401k` variable, and the `pira` variable.\n",
    "\n",
    "##### 7. List all modeling tactics we've learned that could be used to solve a regression problem (as of Wednesday afternoon of Week 6). For each tactic, identify whether it is or is not appropriate for solving this specific regression problem and explain why or why not."
   ]
  },
  {
   "cell_type": "code",
   "execution_count": null,
   "metadata": {},
   "outputs": [],
   "source": [
    "# Regression Method:\n",
    "# Linear regression, Logistic regression, OLS , Ridge, Lasso, Polynomial regression, KNN, Gridsearch, Pipline, \n",
    "# regularization, bootstrapping, bagging, Decision tree, Random forest Robust regression, Adaboost model.\n",
    "\n",
    "# Our target variable, is continuous and the our result will be numerical value.\n",
    "#- a multiple linear regression model : Simple and Easy to interpret and widely use for model\n",
    "#- a k-nearest neighbors model : Simple and Easy to interpret and adapt for non-linear relationship\n",
    "#- a decision tree : decision trees are interpretable and effective for a range of tasks, \n",
    "                    # they can overfit on data and tend to be sensitive to data variations\n",
    "#- a set of bagged decision trees : :Reduces Overfitting ,improved prediction accuracy\n",
    "#- a random forest:Reduces Overfitting ,improved prediction accuracy\n",
    "#- an Adaboost model : Adaboost increases their importance for the next model, helping the ensemble focus on hard-to-classify cases"
   ]
  },
  {
   "cell_type": "markdown",
   "metadata": {},
   "source": [
    "##### 8. Regardless of your answer to number 7, fit at least one of each of the following models to attempt to solve the regression problem above:\n",
    "    - a multiple linear regression model\n",
    "    - a k-nearest neighbors model\n",
    "    - a decision tree\n",
    "    - a set of bagged decision trees\n",
    "    - a random forest\n",
    "    - an Adaboost model\n",
    "    \n",
    "> As always, be sure to do a train/test split! In order to compare modeling techniques, you should use the same train-test split on each. I recommend setting a random seed here.\n",
    "\n",
    "> You may find it helpful to set up a pipeline to try each modeling technique, but you are not required to do so!"
   ]
  },
  {
   "cell_type": "code",
   "execution_count": 47,
   "metadata": {},
   "outputs": [],
   "source": [
    "models = {\n",
    "    'Linear Regression': LinearRegression(),\n",
    "    'KNN': KNeighborsRegressor(),\n",
    "    'Decision Tree': DecisionTreeRegressor(),\n",
    "    'Bagging': BaggingRegressor(),\n",
    "    'Random Forest': RandomForestRegressor(),\n",
    "    'AdaBoost': AdaBoostRegressor()\n",
    "}"
   ]
  },
  {
   "cell_type": "code",
   "execution_count": 69,
   "metadata": {},
   "outputs": [],
   "source": [
    "def evaluate_models(X_train, X_test, y_train, y_test, models):\n",
    "    results = {}\n",
    "    for name, model in models.items():\n",
    "        model.fit(X_train, y_train)\n",
    "        preds_train = model.predict(X_train)\n",
    "        preds = model.predict(X_test)\n",
    "        score_train = model.score(X_train, y_train)\n",
    "        score = model.score(X_test, y_test)\n",
    "        mse_train  = mean_squared_error(y_train, preds_train)\n",
    "        mse = mean_squared_error(y_test, preds)\n",
    "        rmse_train = root_mean_squared_error(y_train, preds_train)\n",
    "        rmse = root_mean_squared_error(y_test, preds)\n",
    "        print(f'train_data {name} - R^2: {score_train:.4f}, MSE: {mse_train:.4f}, RMSE: {rmse_train:4f}')\n",
    "        print(f'test_data {name} - R^2: {score:.4f}, MSE: {mse:.4f}, RMSE: {rmse:4f}\\n')\n"
   ]
  },
  {
   "cell_type": "code",
   "execution_count": 114,
   "metadata": {},
   "outputs": [
    {
     "name": "stdout",
     "output_type": "stream",
     "text": [
      "train_data Linear Regression - R^2: 0.3637, MSE: 365.8314, RMSE: 19.126719\n",
      "test_data Linear Regression - R^2: 0.3367, MSE: 395.4699, RMSE: 19.886425\n",
      "\n",
      "train_data KNN - R^2: 0.5364, MSE: 266.5168, RMSE: 16.325343\n",
      "test_data KNN - R^2: 0.3029, MSE: 415.6302, RMSE: 20.387011\n",
      "\n",
      "train_data Decision Tree - R^2: 0.9957, MSE: 2.4752, RMSE: 1.573287\n",
      "test_data Decision Tree - R^2: -0.1741, MSE: 700.0451, RMSE: 26.458366\n",
      "\n",
      "train_data Bagging - R^2: 0.8762, MSE: 71.1738, RMSE: 8.436455\n",
      "test_data Bagging - R^2: 0.2977, MSE: 418.7354, RMSE: 20.463026\n",
      "\n",
      "train_data Random Forest - R^2: 0.9025, MSE: 56.0611, RMSE: 7.487396\n",
      "test_data Random Forest - R^2: 0.3234, MSE: 403.4205, RMSE: 20.085329\n",
      "\n",
      "train_data AdaBoost - R^2: -0.1899, MSE: 684.1288, RMSE: 26.155856\n",
      "test_data AdaBoost - R^2: -0.2545, MSE: 747.9385, RMSE: 27.348464\n",
      "\n"
     ]
    }
   ],
   "source": [
    "X_train,X_test, y_train, y_test = train_test_split(X,y, random_state=42)\n",
    "sc = StandardScaler()\n",
    "X_train_sc = sc.fit_transform(X_train)\n",
    "X_test_sc = sc.fit_transform(X_test)\n",
    "evaluate_models(X_train_sc, X_test_sc, y_train, y_test, models)"
   ]
  },
  {
   "cell_type": "code",
   "execution_count": null,
   "metadata": {},
   "outputs": [],
   "source": [
    "y_train.value_counts(normalize=True).mul(100)"
   ]
  },
  {
   "cell_type": "markdown",
   "metadata": {},
   "source": [
    "##### 9. What is bootstrapping?"
   ]
  },
  {
   "cell_type": "code",
   "execution_count": null,
   "metadata": {},
   "outputs": [],
   "source": [
    "# Boosting is an ensemble method that takes a weak base learner and tries to make it a strong learner \n",
    "# by retraining it on the misclassified samples. Final prediction combines model's predictions, \n",
    "# weighted by their performance"
   ]
  },
  {
   "cell_type": "markdown",
   "metadata": {},
   "source": [
    "##### 10. What is the difference between a decision tree and a set of bagged decision trees? Be specific and precise!"
   ]
  },
  {
   "cell_type": "code",
   "execution_count": null,
   "metadata": {},
   "outputs": [],
   "source": [
    "#A Decision Tree is a supervised machine learning algorithm that can make decisions based upon the training data.\n",
    "#It built by recursively splitting the data based on the feature that best separates the target values at each node. \n",
    "# Bagging (Bootstrap Aggregation) is used when our goal is to reduce the variance of a decision tree.\n",
    "#The downside to bagging is that there is no single tree with a set of rules to interpret. \n",
    "#It becomes unclear which variables are more important than others."
   ]
  },
  {
   "cell_type": "markdown",
   "metadata": {},
   "source": [
    "##### 11. What is the difference between a set of bagged decision trees and a random forest? Be specific and precise!"
   ]
  },
  {
   "cell_type": "code",
   "execution_count": null,
   "metadata": {},
   "outputs": [],
   "source": [
    "#Bagged decision trees, we generate many different trees on pretty similar data. \n",
    "#These trees are strongly correlated with one another. Because these trees are correlated with one another, \n",
    "#they will have high variance\n",
    "\n",
    "#Random forests differ from bagging decision trees in only one way: they use a modified tree learning algorithm that selects, \n",
    "#at each split in the learning process, a random subset of the features. This process is sometimes called the random subspace method."
   ]
  },
  {
   "cell_type": "markdown",
   "metadata": {},
   "source": [
    "##### 12. Why might a random forest be superior to a set of bagged decision trees?\n",
    "> Hint: Consider the bias-variance tradeoff."
   ]
  },
  {
   "cell_type": "code",
   "execution_count": null,
   "metadata": {},
   "outputs": [],
   "source": [
    "#Random forests are actually usually superior to bagged trees, \n",
    "#as, not only is bagging occurring, but random selection of a subset of features at every node is occurring, and, in practice, \n",
    "#this reduces the correlation between trees, which improves the effectiveness of the final averaging step"
   ]
  },
  {
   "cell_type": "markdown",
   "metadata": {},
   "source": [
    "## Step 5: Evaluate the model. (Part 1: Regression Problem)\n",
    "\n",
    "##### 13. Using RMSE, evaluate each of the models you fit on both the training and testing data."
   ]
  },
  {
   "cell_type": "markdown",
   "metadata": {},
   "source": [
    "train_data Linear Regression - R^2: 0.3637, MSE: 365.8314, RMSE: 19.126719\n",
    "test_data Linear Regression - R^2: 0.3367, MSE: 395.4699, RMSE: 19.886425\n",
    "\n",
    "train_data KNN - R^2: 0.5364, MSE: 266.5168, RMSE: 16.325343\n",
    "test_data KNN - R^2: 0.3029, MSE: 415.6302, RMSE: 20.387011\n",
    "\n",
    "train_data Decision Tree - R^2: 0.9957, MSE: 2.4752, RMSE: 1.573287\n",
    "test_data Decision Tree - R^2: -0.1674, MSE: 696.0570, RMSE: 26.382892\n",
    "\n",
    "train_data Bagging - R^2: 0.8714, MSE: 73.9148, RMSE: 8.597374\n",
    "test_data Bagging - R^2: 0.2642, MSE: 438.6862, RMSE: 20.944837\n",
    "\n",
    "train_data Random Forest - R^2: 0.9037, MSE: 55.3762, RMSE: 7.441518\n",
    "test_data Random Forest - R^2: 0.3317, MSE: 398.4558, RMSE: 19.961357\n",
    "\n",
    "train_data AdaBoost - R^2: 0.0670, MSE: 536.4209, RMSE: 23.160762\n",
    "test_data AdaBoost - R^2: 0.0245, MSE: 581.6223, RMSE: 24.116847"
   ]
  },
  {
   "cell_type": "markdown",
   "metadata": {},
   "source": [
    "##### 14. Based on training RMSE and testing RMSE, is there evidence of overfitting in any of your models? Which ones?"
   ]
  },
  {
   "cell_type": "code",
   "execution_count": 76,
   "metadata": {},
   "outputs": [],
   "source": [
    "#Overfitting: General definition is a model performs significantly better on the training data \n",
    "# than on the test data. However, decision tree , bagging and random forest have huge \n",
    "# difference between train and test on RMSE that significant to overfitting."
   ]
  },
  {
   "cell_type": "markdown",
   "metadata": {},
   "source": [
    "##### 15. Based on everything we've covered so far, if you had to pick just one model as your final model to use to answer the problem in front of you, which one model would you pick? Defend your choice."
   ]
  },
  {
   "cell_type": "code",
   "execution_count": null,
   "metadata": {},
   "outputs": [],
   "source": [
    "#Based on evaluation score , I would select linear regression from R^2 , MSE and RMSE addtionally,\n",
    "#the simple to interpret and not overfitting "
   ]
  },
  {
   "cell_type": "markdown",
   "metadata": {},
   "source": [
    "##### 16. Suppose you wanted to improve the performance of your final model. Brainstorm 2-3 things that, if you had more time, you would attempt."
   ]
  },
  {
   "cell_type": "code",
   "execution_count": null,
   "metadata": {},
   "outputs": [],
   "source": [
    "#Add More Data: Collect more rows of data to increase information size.\n",
    "#Feature Engineering: Create new features such as early_retire using age*income to calculate the \n",
    "#ability to early_retire or not\n",
    "#Using Regularization to tuning the parameter by GridSearchCV to find the best_param"
   ]
  },
  {
   "cell_type": "markdown",
   "metadata": {},
   "source": [
    "## Step 4: Model the data. (Part 2: Classification Problem)\n",
    "\n",
    "Recall:\n",
    "- Problem: Predict whether or not one is eligible for a 401k.\n",
    "- When predicting `e401k`, you may use the entire dataframe if you wish.\n",
    "\n",
    "##### 17. While you're allowed to use every variable in your dataframe, mention at least one disadvantage of using `p401k` in your model."
   ]
  },
  {
   "cell_type": "code",
   "execution_count": 79,
   "metadata": {},
   "outputs": [],
   "source": [
    "#P401k ia participate in 401(k) and it association with our target,\n",
    "#it will be overfitting that our model perform well on training data but doesn’t good to unseen data."
   ]
  },
  {
   "cell_type": "markdown",
   "metadata": {},
   "source": [
    "##### 18. List all modeling tactics we've learned that could be used to solve a classification problem (as of Wednesday afternoon of Week 6). For each tactic, identify whether it is or is not appropriate for solving this specific classification problem and explain why or why not."
   ]
  },
  {
   "cell_type": "code",
   "execution_count": null,
   "metadata": {},
   "outputs": [],
   "source": [
    "- a logistic regression model (Y)\n",
    "\n",
    "    Logistic regression is a classification algorithm that shares similar properties to linear regression.\n",
    "    The coefficients in a logistic regression model are interpretable.\n",
    "    Logistic regression is a very fast model to fit and generate predictions.\n",
    "    The most common classification algorithm.\n",
    "\n",
    "- a k-nearest neighbors model (Y)\n",
    "    Our data and methods have been parametric that a k-nearest neighbors is non-parametric, \n",
    "    and works well with data that has non-linear boundaries\n",
    "    There are no coefficients for the different predictors and \n",
    "    our estimate is not represented by a formula of our predictor variables.\n",
    "\n",
    "- a decision tree (Y)\n",
    "    is appropriate for classification tasks. that easily interpretable, \n",
    "    can handle both non-linear relationships and decision trees don't make assumptions about how our data is distributed\n",
    "    However,decision trees often suffer from high error due to variance, so we need to take special care to avoid this. \n",
    "\n",
    "- a set of bagged decision trees (Y)\n",
    "    Reduces overfitting (lower variance)\n",
    "    Decreases sensitivity to noisy data\n",
    "    Maintains low bias from individual trees\n",
    "    Built-in validation using out-of-bag samples\n",
    "    Easy to parallelize computation\n",
    "    On the otherhand , we need to keep in my the method is loses interpretability of single decision tree\n",
    "\n",
    "- a random forest (Y)\n",
    "    A step beyond bagged decision trees, are very widely used classifiers and regressors. \n",
    "    They are relatively simple to use because they require very few hyperparameters to set and they perform pretty well.\n",
    "\n",
    "- an Adaboost model (Y)\n",
    "    is to fit a sequence of weak learners on repeatedly modified versions of the data. \n",
    "    After each fit, the importance weights on each observation need to be updated.\n",
    "    The predictions are then combined through a weighted majority vote to produce the final prediction. \n",
    "    AdaBoost focuses the next model's fit on the misclassifications/weaknesses of the prior models.\n",
    "    However,AdaBoost is sensitive to the outliers that can reduce the performance of the models\n"
   ]
  },
  {
   "cell_type": "markdown",
   "metadata": {},
   "source": [
    "##### 19. Regardless of your answer to number 18, fit at least one of each of the following models to attempt to solve the classification problem above:\n",
    "    - a logistic regression model\n",
    "    - a k-nearest neighbors model\n",
    "    - a decision tree\n",
    "    - a set of bagged decision trees\n",
    "    - a random forest\n",
    "    - an Adaboost model\n",
    "    \n",
    "> As always, be sure to do a train/test split! In order to compare modeling techniques, you should use the same train-test split on each. I recommend using a random seed here.\n",
    "\n",
    "> You may find it helpful to set up a pipeline to try each modeling technique, but you are not required to do so!"
   ]
  },
  {
   "cell_type": "code",
   "execution_count": 148,
   "metadata": {},
   "outputs": [],
   "source": [
    "X = data[['inc','marr', 'male', 'age', 'fsize','nettfa', 'pira','agesq']]\n",
    "y = data['e401k']"
   ]
  },
  {
   "cell_type": "code",
   "execution_count": 104,
   "metadata": {},
   "outputs": [],
   "source": [
    "classification_models = {\n",
    "    'logistic regression': LogisticRegression(),\n",
    "    'KNN': KNeighborsClassifier(),\n",
    "    'Decision Tree': DecisionTreeClassifier(),\n",
    "    'Bagging': BaggingClassifier(), \n",
    "    'Random Forest': RandomForestClassifier(),\n",
    "    'AdaBoost': AdaBoostClassifier()\n",
    "}"
   ]
  },
  {
   "cell_type": "code",
   "execution_count": 150,
   "metadata": {},
   "outputs": [],
   "source": [
    "from sklearn.datasets import make_classification\n",
    "X, y = make_classification(n_samples=750, n_features=20, random_state=42)\n",
    "X_train_class, X_test_class, y_train_class, y_test_class = train_test_split(X, y, stratify=y, random_state=42)"
   ]
  },
  {
   "cell_type": "code",
   "execution_count": 183,
   "metadata": {},
   "outputs": [],
   "source": [
    "def evaluate_classifiction_models(X_train, X_test, y_train, y_test, classification_models):\n",
    "    results = {}\n",
    "    for name, classification_model in classification_models.items():\n",
    "        classification_model.fit(X_train, y_train)\n",
    "\n",
    "        preds_train = classification_model.predict(X_train)\n",
    "        preds_test = classification_model.predict(X_test)\n",
    "\n",
    "        train_accuracy = accuracy_score(y_train, preds_train)\n",
    "        test_accuracy = accuracy_score(y_test, preds_test)\n",
    "        \n",
    "        precision = precision_score(y_test, preds_test, average='weighted')\n",
    "        recall = recall_score(y_test, preds_test, average='weighted')\n",
    "        f1 = f1_score(y_test, preds_test, average='weighted')\n",
    "        \n",
    "        print(f\"{name} - Train Accuracy: {train_accuracy:.4f}, Test Accuracy: {test_accuracy:.4f}\")\n",
    "        print(f\"Precision: {precision:.4f}, Recall: {recall:.4f}, F1 Score: {f1:.4f}\\n\")\n"
   ]
  },
  {
   "cell_type": "code",
   "execution_count": 185,
   "metadata": {},
   "outputs": [
    {
     "name": "stdout",
     "output_type": "stream",
     "text": [
      "logistic regression - Train Accuracy: 0.9377, Test Accuracy: 0.8777\n",
      "Precision: 0.8777, Recall: 0.8777, F1 Score: 0.8777\n",
      "\n",
      "KNN - Train Accuracy: 0.9128, Test Accuracy: 0.8564\n",
      "Precision: 0.8564, Recall: 0.8564, F1 Score: 0.8564\n",
      "\n",
      "Decision Tree - Train Accuracy: 1.0000, Test Accuracy: 0.8723\n",
      "Precision: 0.8725, Recall: 0.8723, F1 Score: 0.8723\n",
      "\n",
      "Bagging - Train Accuracy: 0.9929, Test Accuracy: 0.8830\n",
      "Precision: 0.8836, Recall: 0.8830, F1 Score: 0.8829\n",
      "\n",
      "Random Forest - Train Accuracy: 1.0000, Test Accuracy: 0.8989\n",
      "Precision: 0.8990, Recall: 0.8989, F1 Score: 0.8989\n",
      "\n",
      "AdaBoost - Train Accuracy: 0.9929, Test Accuracy: 0.8989\n",
      "Precision: 0.8990, Recall: 0.8989, F1 Score: 0.8989\n",
      "\n"
     ]
    },
    {
     "name": "stderr",
     "output_type": "stream",
     "text": [
      "/opt/anaconda3/lib/python3.12/site-packages/sklearn/ensemble/_weight_boosting.py:519: FutureWarning: The SAMME.R algorithm (the default) is deprecated and will be removed in 1.6. Use the SAMME algorithm to circumvent this warning.\n",
      "  warnings.warn(\n"
     ]
    }
   ],
   "source": [
    "\n",
    "evaluate_classifiction_models(X_train_class, X_test_class, y_train_class, y_test_class, classification_models)"
   ]
  },
  {
   "cell_type": "markdown",
   "metadata": {},
   "source": [
    "## Step 5: Evaluate the model. (Part 2: Classfication Problem)\n",
    "\n",
    "##### 20. Suppose our \"positive\" class is that someone is eligible for a 401(k). What are our false positives? What are our false negatives?"
   ]
  },
  {
   "cell_type": "code",
   "execution_count": null,
   "metadata": {},
   "outputs": [],
   "source": [
    "#False Positives: someone is eligible but the prediction is not eligible\n",
    "#False Negative: someone is  not eligible but the prediction is eligible"
   ]
  },
  {
   "cell_type": "markdown",
   "metadata": {},
   "source": [
    "##### 21. In this specific case, would we rather minimize false positives or minimize false negatives? Defend your choice."
   ]
  },
  {
   "cell_type": "code",
   "execution_count": null,
   "metadata": {},
   "outputs": [],
   "source": [
    "#False Positives: someone is eligible but the prediction is not eligible because it will impact\n",
    "#for customer trust."
   ]
  },
  {
   "cell_type": "markdown",
   "metadata": {},
   "source": [
    "##### 22. Suppose we wanted to optimize for the answer you provided in problem 21. Which metric would we optimize in this case?"
   ]
  },
  {
   "cell_type": "code",
   "execution_count": null,
   "metadata": {},
   "outputs": [],
   "source": [
    "# Sensitivity or True Positive Rate or Recall\n",
    "# Of all the actual positive cases \n",
    "# Look at this if we're aiming to optimize for reducing false negatives"
   ]
  },
  {
   "cell_type": "markdown",
   "metadata": {},
   "source": [
    "##### 23. Suppose that instead of optimizing for the metric in problem 21, we wanted to balance our false positives and false negatives using `f1-score`. Why might [f1-score](https://en.wikipedia.org/wiki/F1_score) be an appropriate metric to use here?"
   ]
  },
  {
   "cell_type": "code",
   "execution_count": null,
   "metadata": {},
   "outputs": [],
   "source": [
    "# The F1 score combines two important metrics (precision and recall) into a single number \n",
    "# that tells us how well a model is performing overall. It finds a balanced middle ground \n",
    "# between precision and recall "
   ]
  },
  {
   "cell_type": "markdown",
   "metadata": {},
   "source": [
    "##### 24. Using f1-score, evaluate each of the models you fit on both the training and testing data."
   ]
  },
  {
   "cell_type": "code",
   "execution_count": null,
   "metadata": {},
   "outputs": [],
   "source": [
    "logistic regression - Train Accuracy: 0.9377, Test Accuracy: 0.8777\n",
    "Precision: 0.8777, Recall: 0.8777, F1 Score: 0.8777\n",
    "\n",
    "KNN - Train Accuracy: 0.9128, Test Accuracy: 0.8564\n",
    "Precision: 0.8564, Recall: 0.8564, F1 Score: 0.8564\n",
    "\n",
    "Decision Tree - Train Accuracy: 1.0000, Test Accuracy: 0.8723\n",
    "Precision: 0.8725, Recall: 0.8723, F1 Score: 0.8723\n",
    "\n",
    "Bagging - Train Accuracy: 0.9929, Test Accuracy: 0.8830\n",
    "Precision: 0.8836, Recall: 0.8830, F1 Score: 0.8829\n",
    "\n",
    "Random Forest - Train Accuracy: 1.0000, Test Accuracy: 0.8989\n",
    "Precision: 0.8990, Recall: 0.8989, F1 Score: 0.8989\n",
    "\n",
    "AdaBoost - Train Accuracy: 0.9929, Test Accuracy: 0.8989\n",
    "Precision: 0.8990, Recall: 0.8989, F1 Score: 0.8989"
   ]
  },
  {
   "cell_type": "markdown",
   "metadata": {},
   "source": [
    "##### 25. Based on training f1-score and testing f1-score, is there evidence of overfitting in any of your models? Which ones?"
   ]
  },
  {
   "cell_type": "code",
   "execution_count": null,
   "metadata": {},
   "outputs": [],
   "source": [
    "#Based on accuracy score : decision tree and random forest got 1.0000 that imply 100% that sinificant to\n",
    "overfitting"
   ]
  },
  {
   "cell_type": "markdown",
   "metadata": {},
   "source": [
    "##### 26. Based on everything we've covered so far, if you had to pick just one model as your final model to use to answer the problem in front of you, which one model would you pick? Defend your choice."
   ]
  },
  {
   "cell_type": "code",
   "execution_count": null,
   "metadata": {},
   "outputs": [],
   "source": [
    "#I select Logistic regression is widely used and easy to interpret with the accuracy score plus F1 score."
   ]
  },
  {
   "cell_type": "markdown",
   "metadata": {},
   "source": [
    "##### 27. Suppose you wanted to improve the performance of your final model. Brainstorm 2-3 things that, if you had more time, you would attempt."
   ]
  },
  {
   "cell_type": "code",
   "execution_count": 187,
   "metadata": {},
   "outputs": [],
   "source": [
    "#Optimize Parameters using gridSearch to find the best hyperparameters for the model\n",
    "#Use XGBoost to get better performance and trade off with complication interpret and explanation\n"
   ]
  },
  {
   "cell_type": "markdown",
   "metadata": {},
   "source": [
    "## Step 6: Answer the problem.\n",
    "\n",
    "##### BONUS: Briefly summarize your answers to the regression and classification problems. Be sure to include any limitations or hesitations in your answer.\n",
    "\n",
    "- Regression: What features best predict one's income?\n",
    "- Classification: Predict whether or not one is eligible for a 401k."
   ]
  },
  {
   "cell_type": "code",
   "execution_count": null,
   "metadata": {},
   "outputs": [],
   "source": [
    "Regression\n",
    "#In the prepared dataframe, age is the feature to predict incomes(based on corration 0.83 with income)\n",
    "#Because I will assume the age with work experience to estimate what's the income they should have.\n",
    "#However, it is the most sensitive information: \n",
    "#the income will impact from education background and the position that they work in and so on that lead to bias in data\n",
    "\n",
    "#Age because eligibility depends on a minimum age, \n",
    "#and it can influence predictions. However, it can be an imbalance problem \n",
    "#if the dataset includes more near-retire (mean is 41.080216) retire age range (65-67 in US)"
   ]
  }
 ],
 "metadata": {
  "kernelspec": {
   "display_name": "Python 3 (ipykernel)",
   "language": "python",
   "name": "python3"
  },
  "language_info": {
   "codemirror_mode": {
    "name": "ipython",
    "version": 3
   },
   "file_extension": ".py",
   "mimetype": "text/x-python",
   "name": "python",
   "nbconvert_exporter": "python",
   "pygments_lexer": "ipython3",
   "version": "3.12.4"
  }
 },
 "nbformat": 4,
 "nbformat_minor": 4
}
